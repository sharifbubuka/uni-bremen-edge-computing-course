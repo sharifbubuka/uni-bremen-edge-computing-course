{
  "nbformat": 4,
  "nbformat_minor": 0,
  "metadata": {
    "colab": {
      "provenance": [],
      "authorship_tag": "ABX9TyNTI7ONrh+4ptFCOB/QZw9S",
      "include_colab_link": true
    },
    "kernelspec": {
      "name": "python3",
      "display_name": "Python 3"
    },
    "language_info": {
      "name": "python"
    }
  },
  "cells": [
    {
      "cell_type": "markdown",
      "metadata": {
        "id": "view-in-github",
        "colab_type": "text"
      },
      "source": [
        "<a href=\"https://colab.research.google.com/github/sharifbubuka/uni-bremen-edge-computing-course/blob/main/tiny_ml_assignment_1.ipynb\" target=\"_parent\"><img src=\"https://colab.research.google.com/assets/colab-badge.svg\" alt=\"Open In Colab\"/></a>"
      ]
    },
    {
      "cell_type": "markdown",
      "source": [
        "# TINY ML ASSIGNMENT 1"
      ],
      "metadata": {
        "id": "zVZNwyO4MNNZ"
      }
    },
    {
      "cell_type": "markdown",
      "source": [
        "## CONFIGURATIONS"
      ],
      "metadata": {
        "id": "I10O8xC-Mh3u"
      }
    },
    {
      "cell_type": "code",
      "source": [
        "# Define paths to model files\n",
        "import os\n",
        "MODELS_DIR = 'models/'\n",
        "\n",
        "if not os.path.exists(MODELS_DIR):\n",
        "  os.mkdir(MODELS_DIR)\n",
        "\n",
        "MODELS_TF = [MODELS_DIR + 'model-1', MODELS_DIR + 'model-2', MODELS_DIR + 'model-3', MODELS_DIR + 'model-4', MODELS_DIR + 'model-5', MODELS_DIR + 'model-6']\n",
        "MODELS_TFLITE = [MODELS_DIR + 'model-1.tflite', MODELS_DIR + 'model-2.tflite', MODELS_DIR + 'model-3.tflite', MODELS_DIR + 'model-4.tflite', MODELS_DIR + 'model-5.tflite', MODELS_DIR + 'model-6.tflite']"
      ],
      "metadata": {
        "id": "aiS4Sd5dNfjh"
      },
      "execution_count": 19,
      "outputs": []
    },
    {
      "cell_type": "code",
      "source": [
        "# Install dependencies\n",
        "! pip install tensorflow"
      ],
      "metadata": {
        "colab": {
          "base_uri": "https://localhost:8080/"
        },
        "collapsed": true,
        "id": "2es6SxJHOvpA",
        "outputId": "1c42fef2-d105-44e8-da71-a2397ac86d7b"
      },
      "execution_count": 4,
      "outputs": [
        {
          "output_type": "stream",
          "name": "stdout",
          "text": [
            "Requirement already satisfied: tensorflow in /usr/local/lib/python3.10/dist-packages (2.15.0)\n",
            "Requirement already satisfied: absl-py>=1.0.0 in /usr/local/lib/python3.10/dist-packages (from tensorflow) (1.4.0)\n",
            "Requirement already satisfied: astunparse>=1.6.0 in /usr/local/lib/python3.10/dist-packages (from tensorflow) (1.6.3)\n",
            "Requirement already satisfied: flatbuffers>=23.5.26 in /usr/local/lib/python3.10/dist-packages (from tensorflow) (24.3.25)\n",
            "Requirement already satisfied: gast!=0.5.0,!=0.5.1,!=0.5.2,>=0.2.1 in /usr/local/lib/python3.10/dist-packages (from tensorflow) (0.5.4)\n",
            "Requirement already satisfied: google-pasta>=0.1.1 in /usr/local/lib/python3.10/dist-packages (from tensorflow) (0.2.0)\n",
            "Requirement already satisfied: h5py>=2.9.0 in /usr/local/lib/python3.10/dist-packages (from tensorflow) (3.9.0)\n",
            "Requirement already satisfied: libclang>=13.0.0 in /usr/local/lib/python3.10/dist-packages (from tensorflow) (18.1.1)\n",
            "Requirement already satisfied: ml-dtypes~=0.2.0 in /usr/local/lib/python3.10/dist-packages (from tensorflow) (0.2.0)\n",
            "Requirement already satisfied: numpy<2.0.0,>=1.23.5 in /usr/local/lib/python3.10/dist-packages (from tensorflow) (1.25.2)\n",
            "Requirement already satisfied: opt-einsum>=2.3.2 in /usr/local/lib/python3.10/dist-packages (from tensorflow) (3.3.0)\n",
            "Requirement already satisfied: packaging in /usr/local/lib/python3.10/dist-packages (from tensorflow) (24.0)\n",
            "Requirement already satisfied: protobuf!=4.21.0,!=4.21.1,!=4.21.2,!=4.21.3,!=4.21.4,!=4.21.5,<5.0.0dev,>=3.20.3 in /usr/local/lib/python3.10/dist-packages (from tensorflow) (3.20.3)\n",
            "Requirement already satisfied: setuptools in /usr/local/lib/python3.10/dist-packages (from tensorflow) (67.7.2)\n",
            "Requirement already satisfied: six>=1.12.0 in /usr/local/lib/python3.10/dist-packages (from tensorflow) (1.16.0)\n",
            "Requirement already satisfied: termcolor>=1.1.0 in /usr/local/lib/python3.10/dist-packages (from tensorflow) (2.4.0)\n",
            "Requirement already satisfied: typing-extensions>=3.6.6 in /usr/local/lib/python3.10/dist-packages (from tensorflow) (4.12.1)\n",
            "Requirement already satisfied: wrapt<1.15,>=1.11.0 in /usr/local/lib/python3.10/dist-packages (from tensorflow) (1.14.1)\n",
            "Requirement already satisfied: tensorflow-io-gcs-filesystem>=0.23.1 in /usr/local/lib/python3.10/dist-packages (from tensorflow) (0.37.0)\n",
            "Requirement already satisfied: grpcio<2.0,>=1.24.3 in /usr/local/lib/python3.10/dist-packages (from tensorflow) (1.64.1)\n",
            "Requirement already satisfied: tensorboard<2.16,>=2.15 in /usr/local/lib/python3.10/dist-packages (from tensorflow) (2.15.2)\n",
            "Requirement already satisfied: tensorflow-estimator<2.16,>=2.15.0 in /usr/local/lib/python3.10/dist-packages (from tensorflow) (2.15.0)\n",
            "Requirement already satisfied: keras<2.16,>=2.15.0 in /usr/local/lib/python3.10/dist-packages (from tensorflow) (2.15.0)\n",
            "Requirement already satisfied: wheel<1.0,>=0.23.0 in /usr/local/lib/python3.10/dist-packages (from astunparse>=1.6.0->tensorflow) (0.43.0)\n",
            "Requirement already satisfied: google-auth<3,>=1.6.3 in /usr/local/lib/python3.10/dist-packages (from tensorboard<2.16,>=2.15->tensorflow) (2.27.0)\n",
            "Requirement already satisfied: google-auth-oauthlib<2,>=0.5 in /usr/local/lib/python3.10/dist-packages (from tensorboard<2.16,>=2.15->tensorflow) (1.2.0)\n",
            "Requirement already satisfied: markdown>=2.6.8 in /usr/local/lib/python3.10/dist-packages (from tensorboard<2.16,>=2.15->tensorflow) (3.6)\n",
            "Requirement already satisfied: requests<3,>=2.21.0 in /usr/local/lib/python3.10/dist-packages (from tensorboard<2.16,>=2.15->tensorflow) (2.31.0)\n",
            "Requirement already satisfied: tensorboard-data-server<0.8.0,>=0.7.0 in /usr/local/lib/python3.10/dist-packages (from tensorboard<2.16,>=2.15->tensorflow) (0.7.2)\n",
            "Requirement already satisfied: werkzeug>=1.0.1 in /usr/local/lib/python3.10/dist-packages (from tensorboard<2.16,>=2.15->tensorflow) (3.0.3)\n",
            "Requirement already satisfied: cachetools<6.0,>=2.0.0 in /usr/local/lib/python3.10/dist-packages (from google-auth<3,>=1.6.3->tensorboard<2.16,>=2.15->tensorflow) (5.3.3)\n",
            "Requirement already satisfied: pyasn1-modules>=0.2.1 in /usr/local/lib/python3.10/dist-packages (from google-auth<3,>=1.6.3->tensorboard<2.16,>=2.15->tensorflow) (0.4.0)\n",
            "Requirement already satisfied: rsa<5,>=3.1.4 in /usr/local/lib/python3.10/dist-packages (from google-auth<3,>=1.6.3->tensorboard<2.16,>=2.15->tensorflow) (4.9)\n",
            "Requirement already satisfied: requests-oauthlib>=0.7.0 in /usr/local/lib/python3.10/dist-packages (from google-auth-oauthlib<2,>=0.5->tensorboard<2.16,>=2.15->tensorflow) (1.3.1)\n",
            "Requirement already satisfied: charset-normalizer<4,>=2 in /usr/local/lib/python3.10/dist-packages (from requests<3,>=2.21.0->tensorboard<2.16,>=2.15->tensorflow) (3.3.2)\n",
            "Requirement already satisfied: idna<4,>=2.5 in /usr/local/lib/python3.10/dist-packages (from requests<3,>=2.21.0->tensorboard<2.16,>=2.15->tensorflow) (3.7)\n",
            "Requirement already satisfied: urllib3<3,>=1.21.1 in /usr/local/lib/python3.10/dist-packages (from requests<3,>=2.21.0->tensorboard<2.16,>=2.15->tensorflow) (2.0.7)\n",
            "Requirement already satisfied: certifi>=2017.4.17 in /usr/local/lib/python3.10/dist-packages (from requests<3,>=2.21.0->tensorboard<2.16,>=2.15->tensorflow) (2024.6.2)\n",
            "Requirement already satisfied: MarkupSafe>=2.1.1 in /usr/local/lib/python3.10/dist-packages (from werkzeug>=1.0.1->tensorboard<2.16,>=2.15->tensorflow) (2.1.5)\n",
            "Requirement already satisfied: pyasn1<0.7.0,>=0.4.6 in /usr/local/lib/python3.10/dist-packages (from pyasn1-modules>=0.2.1->google-auth<3,>=1.6.3->tensorboard<2.16,>=2.15->tensorflow) (0.6.0)\n",
            "Requirement already satisfied: oauthlib>=3.0.0 in /usr/local/lib/python3.10/dist-packages (from requests-oauthlib>=0.7.0->google-auth-oauthlib<2,>=0.5->tensorboard<2.16,>=2.15->tensorflow) (3.2.2)\n"
          ]
        }
      ]
    },
    {
      "cell_type": "code",
      "source": [
        "# Import dependencies\n",
        "import tensorflow as tf\n",
        "from tensorflow import keras\n",
        "\n",
        "import numpy as np\n",
        "import pandas as pd\n",
        "import matplotlib.pyplot as plt\n",
        "import math\n",
        "\n",
        "seed = 1\n",
        "np.random.seed(seed)\n",
        "tf.random.set_seed(seed)"
      ],
      "metadata": {
        "id": "9xXVDM-3O5hR"
      },
      "execution_count": 20,
      "outputs": []
    },
    {
      "cell_type": "markdown",
      "source": [
        "## DATA SETUP"
      ],
      "metadata": {
        "id": "phJFLchnMmki"
      }
    },
    {
      "cell_type": "code",
      "source": [
        "# Number of sample datapoints\n",
        "SAMPLES = 1000\n",
        "\n",
        "# Generate a uniformly distributed set of random numbers in the range from\n",
        "# 0 to 2π, which covers a complete sine wave oscillation\n",
        "x_values = np.random.uniform(\n",
        "    low=0, high=2*math.pi, size=SAMPLES).astype(np.float32)\n",
        "\n",
        "# Shuffle the values to guarantee they're not in order\n",
        "np.random.shuffle(x_values)\n",
        "\n",
        "# Calculate the corresponding sine values\n",
        "y_values = np.sin(x_values).astype(np.float32)\n",
        "\n",
        "# Plot our data. The 'b.' argument tells the library to print blue dots.\n",
        "plt.plot(x_values, y_values, 'b.')\n",
        "plt.show()"
      ],
      "metadata": {
        "colab": {
          "base_uri": "https://localhost:8080/",
          "height": 430
        },
        "id": "bTN-qh9WPUbD",
        "outputId": "d657f264-78b6-4fb3-bad6-31f2f9495734"
      },
      "execution_count": 21,
      "outputs": [
        {
          "output_type": "display_data",
          "data": {
            "text/plain": [
              "<Figure size 640x480 with 1 Axes>"
            ],
            "image/png": "[encoded data removed]"
          },
          "metadata": {}
        }
      ]
    },
    {
      "cell_type": "code",
      "source": [
        "# Add a small random number to each y value\n",
        "y_values += 0.1 * np.random.randn(*y_values.shape)\n",
        "\n",
        "# Plot our data\n",
        "plt.plot(x_values, y_values, 'b.')\n",
        "plt.show()"
      ],
      "metadata": {
        "colab": {
          "base_uri": "https://localhost:8080/",
          "height": 430
        },
        "id": "mjGz1N9oP4x1",
        "outputId": "1bf61fe7-bcea-4ce2-8fd0-858d7adf54ca"
      },
      "execution_count": 22,
      "outputs": [
        {
          "output_type": "display_data",
          "data": {
            "text/plain": [
              "<Figure size 640x480 with 1 Axes>"
            ],
            "image/png": "[encoded data removed]"
          },
          "metadata": {}
        }
      ]
    },
    {
      "cell_type": "code",
      "source": [
        "# We'll use 60% of our data for training and 20% for testing. The remaining 20%\n",
        "# will be used for validation. Calculate the indices of each section.\n",
        "TRAIN_SPLIT =  int(0.6 * SAMPLES)\n",
        "TEST_SPLIT = int(0.2 * SAMPLES + TRAIN_SPLIT)\n",
        "\n",
        "# Use np.split to chop our data into three parts.\n",
        "# The second argument to np.split is an array of indices where the data will be\n",
        "# split. We provide two indices, so the data will be divided into three chunks.\n",
        "x_train, x_test, x_validate = np.split(x_values, [TRAIN_SPLIT, TEST_SPLIT])\n",
        "y_train, y_test, y_validate = np.split(y_values, [TRAIN_SPLIT, TEST_SPLIT])\n",
        "\n",
        "# Double check that our splits add up correctly\n",
        "assert (x_train.size + x_validate.size + x_test.size) ==  SAMPLES\n",
        "\n",
        "# Plot the data in each partition in different colors:\n",
        "plt.plot(x_train, y_train, 'b.', label=\"Train\")\n",
        "plt.plot(x_test, y_test, 'r.', label=\"Test\")\n",
        "plt.plot(x_validate, y_validate, 'y.', label=\"Validate\")\n",
        "plt.legend()\n",
        "plt.show()\n"
      ],
      "metadata": {
        "colab": {
          "base_uri": "https://localhost:8080/",
          "height": 430
        },
        "id": "IVh0kLWTQBME",
        "outputId": "eb53c519-0bdf-4561-90ad-e438850ab0cd"
      },
      "execution_count": 23,
      "outputs": [
        {
          "output_type": "display_data",
          "data": {
            "text/plain": [
              "<Figure size 640x480 with 1 Axes>"
            ],
            "image/png": "[encoded data removed]"
          },
          "metadata": {}
        }
      ]
    },
    {
      "cell_type": "markdown",
      "source": [
        "## MODEL DESIGNS"
      ],
      "metadata": {
        "id": "2bNgoLofMmi1"
      }
    },
    {
      "cell_type": "code",
      "source": [
        "# model design configurations\n",
        "\n",
        "models = []\n",
        "\n",
        "model_configurations = [[16, 1], [16, 2], [16, 4], [32, 1], [32, 2], [32, 4]]\n",
        "\n",
        "# function to create model, given number of nodes and layers\n",
        "def create_model(num_nodes, num_layers):\n",
        "  model = tf.keras.Sequential()\n",
        "\n",
        "   # First layer with specified number of nodes\n",
        "  model.add(keras.layers.Dense(num_nodes, activation='relu', input_shape=(1,)))\n",
        "\n",
        "  # Adding hidden layers based on the num_layers\n",
        "  for _ in range(num_layers - 1):\n",
        "        model.add(keras.layers.Dense(num_nodes, activation='relu'))\n",
        "\n",
        "  # Final output layer\n",
        "  model.add(keras.layers.Dense(1))\n",
        "\n",
        "  # Compile the model\n",
        "  model.compile(optimizer='adam', loss=\"mse\", metrics=[\"mae\"])\n",
        "\n",
        "  return model\n"
      ],
      "metadata": {
        "id": "MHcNTMbgQ6mG"
      },
      "execution_count": 24,
      "outputs": []
    },
    {
      "cell_type": "code",
      "source": [
        "# Deisgn the models\n",
        "for config in model_configurations:\n",
        "    num_nodes, num_layers = config\n",
        "    model = create_model(num_nodes, num_layers)\n",
        "    models.append(model)"
      ],
      "metadata": {
        "id": "nujMJyidSoow"
      },
      "execution_count": 25,
      "outputs": []
    },
    {
      "cell_type": "code",
      "source": [
        "for i, model in enumerate(models):\n",
        "    print(f\"Model {i+1} summary:\")\n",
        "    model.summary()\n",
        "    print(\"\\n\")"
      ],
      "metadata": {
        "colab": {
          "base_uri": "https://localhost:8080/"
        },
        "collapsed": true,
        "id": "iRTHegyzSzSP",
        "outputId": "bb7e0565-00dd-4b30-d623-2c66603f359c"
      },
      "execution_count": 26,
      "outputs": [
        {
          "output_type": "stream",
          "name": "stdout",
          "text": [
            "Model 1 summary:\n",
            "Model: \"sequential_6\"\n",
            "_________________________________________________________________\n",
            " Layer (type)                Output Shape              Param #   \n",
            "=================================================================\n",
            " dense_20 (Dense)            (None, 16)                32        \n",
            "                                                                 \n",
            " dense_21 (Dense)            (None, 1)                 17        \n",
            "                                                                 \n",
            "=================================================================\n",
            "Total params: 49 (196.00 Byte)\n",
            "Trainable params: 49 (196.00 Byte)\n",
            "Non-trainable params: 0 (0.00 Byte)\n",
            "_________________________________________________________________\n",
            "\n",
            "\n",
            "Model 2 summary:\n",
            "Model: \"sequential_7\"\n",
            "_________________________________________________________________\n",
            " Layer (type)                Output Shape              Param #   \n",
            "=================================================================\n",
            " dense_22 (Dense)            (None, 16)                32        \n",
            "                                                                 \n",
            " dense_23 (Dense)            (None, 16)                272       \n",
            "                                                                 \n",
            " dense_24 (Dense)            (None, 1)                 17        \n",
            "                                                                 \n",
            "=================================================================\n",
            "Total params: 321 (1.25 KB)\n",
            "Trainable params: 321 (1.25 KB)\n",
            "Non-trainable params: 0 (0.00 Byte)\n",
            "_________________________________________________________________\n",
            "\n",
            "\n",
            "Model 3 summary:\n",
            "Model: \"sequential_8\"\n",
            "_________________________________________________________________\n",
            " Layer (type)                Output Shape              Param #   \n",
            "=================================================================\n",
            " dense_25 (Dense)            (None, 16)                32        \n",
            "                                                                 \n",
            " dense_26 (Dense)            (None, 16)                272       \n",
            "                                                                 \n",
            " dense_27 (Dense)            (None, 16)                272       \n",
            "                                                                 \n",
            " dense_28 (Dense)            (None, 16)                272       \n",
            "                                                                 \n",
            " dense_29 (Dense)            (None, 1)                 17        \n",
            "                                                                 \n",
            "=================================================================\n",
            "Total params: 865 (3.38 KB)\n",
            "Trainable params: 865 (3.38 KB)\n",
            "Non-trainable params: 0 (0.00 Byte)\n",
            "_________________________________________________________________\n",
            "\n",
            "\n",
            "Model 4 summary:\n",
            "Model: \"sequential_9\"\n",
            "_________________________________________________________________\n",
            " Layer (type)                Output Shape              Param #   \n",
            "=================================================================\n",
            " dense_30 (Dense)            (None, 32)                64        \n",
            "                                                                 \n",
            " dense_31 (Dense)            (None, 1)                 33        \n",
            "                                                                 \n",
            "=================================================================\n",
            "Total params: 97 (388.00 Byte)\n",
            "Trainable params: 97 (388.00 Byte)\n",
            "Non-trainable params: 0 (0.00 Byte)\n",
            "_________________________________________________________________\n",
            "\n",
            "\n",
            "Model 5 summary:\n",
            "Model: \"sequential_10\"\n",
            "_________________________________________________________________\n",
            " Layer (type)                Output Shape              Param #   \n",
            "=================================================================\n",
            " dense_32 (Dense)            (None, 32)                64        \n",
            "                                                                 \n",
            " dense_33 (Dense)            (None, 32)                1056      \n",
            "                                                                 \n",
            " dense_34 (Dense)            (None, 1)                 33        \n",
            "                                                                 \n",
            "=================================================================\n",
            "Total params: 1153 (4.50 KB)\n",
            "Trainable params: 1153 (4.50 KB)\n",
            "Non-trainable params: 0 (0.00 Byte)\n",
            "_________________________________________________________________\n",
            "\n",
            "\n",
            "Model 6 summary:\n",
            "Model: \"sequential_11\"\n",
            "_________________________________________________________________\n",
            " Layer (type)                Output Shape              Param #   \n",
            "=================================================================\n",
            " dense_35 (Dense)            (None, 32)                64        \n",
            "                                                                 \n",
            " dense_36 (Dense)            (None, 32)                1056      \n",
            "                                                                 \n",
            " dense_37 (Dense)            (None, 32)                1056      \n",
            "                                                                 \n",
            " dense_38 (Dense)            (None, 32)                1056      \n",
            "                                                                 \n",
            " dense_39 (Dense)            (None, 1)                 33        \n",
            "                                                                 \n",
            "=================================================================\n",
            "Total params: 3265 (12.75 KB)\n",
            "Trainable params: 3265 (12.75 KB)\n",
            "Non-trainable params: 0 (0.00 Byte)\n",
            "_________________________________________________________________\n",
            "\n",
            "\n"
          ]
        }
      ]
    },
    {
      "cell_type": "markdown",
      "source": [
        "## MODEL TRAINING"
      ],
      "metadata": {
        "id": "Kqn9FvhUM6xn"
      }
    },
    {
      "cell_type": "code",
      "source": [
        "# Model training configurations\n",
        "\n",
        "# Training Paramters\n",
        "epochs = 500\n",
        "batch_size = 64\n",
        "validation_data=(x_validate, y_validate)"
      ],
      "metadata": {
        "id": "Fe4__N4BTFPY"
      },
      "execution_count": 27,
      "outputs": []
    },
    {
      "cell_type": "code",
      "source": [
        "# Model training\n",
        "\n",
        "histories = [model.fit(x_train, y_train, epochs, batch_size, validation_data) for model in models]"
      ],
      "metadata": {
        "colab": {
          "base_uri": "https://localhost:8080/"
        },
        "collapsed": true,
        "id": "ChsUJIIuUp0w",
        "outputId": "9025b28d-7851-4984-dee2-e9d01c75b259"
      },
      "execution_count": 28,
      "outputs": [
        {
          "output_type": "stream",
          "name": "stdout",
          "text": [
            "Epoch 1/64\n",
            "Epoch 2/64\n",
            "Epoch 3/64\n",
            "Epoch 4/64\n",
            "Epoch 5/64\n",
            "Epoch 6/64\n",
            "Epoch 7/64\n",
            "Epoch 8/64\n",
            "Epoch 9/64\n",
            "Epoch 10/64\n",
            "Epoch 11/64\n",
            "Epoch 12/64\n",
            "Epoch 13/64\n",
            "Epoch 14/64\n",
            "Epoch 15/64\n",
            "Epoch 16/64\n",
            "Epoch 17/64\n",
            "Epoch 18/64\n",
            "Epoch 19/64\n",
            "Epoch 20/64\n",
            "Epoch 21/64\n",
            "Epoch 22/64\n",
            "Epoch 23/64\n",
            "Epoch 24/64\n",
            "Epoch 25/64\n",
            "Epoch 26/64\n",
            "Epoch 27/64\n",
            "Epoch 28/64\n",
            "Epoch 29/64\n",
            "Epoch 30/64\n",
            "Epoch 31/64\n",
            "Epoch 32/64\n",
            "Epoch 33/64\n",
            "Epoch 34/64\n",
            "Epoch 35/64\n",
            "Epoch 36/64\n",
            "Epoch 37/64\n",
            "Epoch 38/64\n",
            "Epoch 39/64\n",
            "Epoch 40/64\n",
            "Epoch 41/64\n",
            "Epoch 42/64\n",
            "Epoch 43/64\n",
            "Epoch 44/64\n",
            "Epoch 45/64\n",
            "Epoch 46/64\n",
            "Epoch 47/64\n",
            "Epoch 48/64\n",
            "Epoch 49/64\n",
            "Epoch 50/64\n",
            "Epoch 51/64\n",
            "Epoch 52/64\n",
            "Epoch 53/64\n",
            "Epoch 54/64\n",
            "Epoch 55/64\n",
            "Epoch 56/64\n",
            "Epoch 57/64\n",
            "Epoch 58/64\n",
            "Epoch 59/64\n",
            "Epoch 60/64\n",
            "Epoch 61/64\n",
            "Epoch 62/64\n",
            "Epoch 63/64\n",
            "Epoch 64/64\n",
            "Epoch 1/64\n",
            "Epoch 2/64\n",
            "Epoch 3/64\n",
            "Epoch 4/64\n",
            "Epoch 5/64\n",
            "Epoch 6/64\n",
            "Epoch 7/64\n",
            "Epoch 8/64\n",
            "Epoch 9/64\n",
            "Epoch 10/64\n",
            "Epoch 11/64\n",
            "Epoch 12/64\n",
            "Epoch 13/64\n",
            "Epoch 14/64\n",
            "Epoch 15/64\n",
            "Epoch 16/64\n",
            "Epoch 17/64\n",
            "Epoch 18/64\n",
            "Epoch 19/64\n",
            "Epoch 20/64\n",
            "Epoch 21/64\n",
            "Epoch 22/64\n",
            "Epoch 23/64\n",
            "Epoch 24/64\n",
            "Epoch 25/64\n",
            "Epoch 26/64\n",
            "Epoch 27/64\n",
            "Epoch 28/64\n",
            "Epoch 29/64\n",
            "Epoch 30/64\n",
            "Epoch 31/64\n",
            "Epoch 32/64\n",
            "Epoch 33/64\n",
            "Epoch 34/64\n",
            "Epoch 35/64\n",
            "Epoch 36/64\n",
            "Epoch 37/64\n",
            "Epoch 38/64\n",
            "Epoch 39/64\n",
            "Epoch 40/64\n",
            "Epoch 41/64\n",
            "Epoch 42/64\n",
            "Epoch 43/64\n",
            "Epoch 44/64\n",
            "Epoch 45/64\n",
            "Epoch 46/64\n",
            "Epoch 47/64\n",
            "Epoch 48/64\n",
            "Epoch 49/64\n",
            "Epoch 50/64\n",
            "Epoch 51/64\n",
            "Epoch 52/64\n",
            "Epoch 53/64\n",
            "Epoch 54/64\n",
            "Epoch 55/64\n",
            "Epoch 56/64\n",
            "Epoch 57/64\n",
            "Epoch 58/64\n",
            "Epoch 59/64\n",
            "Epoch 60/64\n",
            "Epoch 61/64\n",
            "Epoch 62/64\n",
            "Epoch 63/64\n",
            "Epoch 64/64\n",
            "Epoch 1/64\n",
            "Epoch 2/64\n",
            "Epoch 3/64\n",
            "Epoch 4/64\n",
            "Epoch 5/64\n",
            "Epoch 6/64\n",
            "Epoch 7/64\n",
            "Epoch 8/64\n",
            "Epoch 9/64\n",
            "Epoch 10/64\n",
            "Epoch 11/64\n",
            "Epoch 12/64\n",
            "Epoch 13/64\n",
            "Epoch 14/64\n",
            "Epoch 15/64\n",
            "Epoch 16/64\n",
            "Epoch 17/64\n",
            "Epoch 18/64\n",
            "Epoch 19/64\n",
            "Epoch 20/64\n",
            "Epoch 21/64\n",
            "Epoch 22/64\n",
            "Epoch 23/64\n",
            "Epoch 24/64\n",
            "Epoch 25/64\n",
            "Epoch 26/64\n",
            "Epoch 27/64\n",
            "Epoch 28/64\n",
            "Epoch 29/64\n",
            "Epoch 30/64\n",
            "Epoch 31/64\n",
            "Epoch 32/64\n",
            "Epoch 33/64\n",
            "Epoch 34/64\n",
            "Epoch 35/64\n",
            "Epoch 36/64\n",
            "Epoch 37/64\n",
            "Epoch 38/64\n",
            "Epoch 39/64\n",
            "Epoch 40/64\n",
            "Epoch 41/64\n",
            "Epoch 42/64\n",
            "Epoch 43/64\n",
            "Epoch 44/64\n",
            "Epoch 45/64\n",
            "Epoch 46/64\n",
            "Epoch 47/64\n",
            "Epoch 48/64\n",
            "Epoch 49/64\n",
            "Epoch 50/64\n",
            "Epoch 51/64\n",
            "Epoch 52/64\n",
            "Epoch 53/64\n",
            "Epoch 54/64\n",
            "Epoch 55/64\n",
            "Epoch 56/64\n",
            "Epoch 57/64\n",
            "Epoch 58/64\n",
            "Epoch 59/64\n",
            "Epoch 60/64\n",
            "Epoch 61/64\n",
            "Epoch 62/64\n",
            "Epoch 63/64\n",
            "Epoch 64/64\n",
            "Epoch 1/64\n",
            "Epoch 2/64\n",
            "Epoch 3/64\n",
            "Epoch 4/64\n",
            "Epoch 5/64\n",
            "Epoch 6/64\n",
            "Epoch 7/64\n",
            "Epoch 8/64\n",
            "Epoch 9/64\n",
            "Epoch 10/64\n",
            "Epoch 11/64\n",
            "Epoch 12/64\n",
            "Epoch 13/64\n",
            "Epoch 14/64\n",
            "Epoch 15/64\n",
            "Epoch 16/64\n",
            "Epoch 17/64\n",
            "Epoch 18/64\n",
            "Epoch 19/64\n",
            "Epoch 20/64\n",
            "Epoch 21/64\n",
            "Epoch 22/64\n",
            "Epoch 23/64\n",
            "Epoch 24/64\n",
            "Epoch 25/64\n",
            "Epoch 26/64\n",
            "Epoch 27/64\n",
            "Epoch 28/64\n",
            "Epoch 29/64\n",
            "Epoch 30/64\n",
            "Epoch 31/64\n",
            "Epoch 32/64\n",
            "Epoch 33/64\n",
            "Epoch 34/64\n",
            "Epoch 35/64\n",
            "Epoch 36/64\n",
            "Epoch 37/64\n",
            "Epoch 38/64\n",
            "Epoch 39/64\n",
            "Epoch 40/64\n",
            "Epoch 41/64\n",
            "Epoch 42/64\n",
            "Epoch 43/64\n",
            "Epoch 44/64\n",
            "Epoch 45/64\n",
            "Epoch 46/64\n",
            "Epoch 47/64\n",
            "Epoch 48/64\n",
            "Epoch 49/64\n",
            "Epoch 50/64\n",
            "Epoch 51/64\n",
            "Epoch 52/64\n",
            "Epoch 53/64\n",
            "Epoch 54/64\n",
            "Epoch 55/64\n",
            "Epoch 56/64\n",
            "Epoch 57/64\n",
            "Epoch 58/64\n",
            "Epoch 59/64\n",
            "Epoch 60/64\n",
            "Epoch 61/64\n",
            "Epoch 62/64\n",
            "Epoch 63/64\n",
            "Epoch 64/64\n",
            "Epoch 1/64\n",
            "Epoch 2/64\n",
            "Epoch 3/64\n",
            "Epoch 4/64\n",
            "Epoch 5/64\n",
            "Epoch 6/64\n",
            "Epoch 7/64\n",
            "Epoch 8/64\n",
            "Epoch 9/64\n",
            "Epoch 10/64\n",
            "Epoch 11/64\n",
            "Epoch 12/64\n",
            "Epoch 13/64\n",
            "Epoch 14/64\n",
            "Epoch 15/64\n",
            "Epoch 16/64\n",
            "Epoch 17/64\n",
            "Epoch 18/64\n",
            "Epoch 19/64\n",
            "Epoch 20/64\n",
            "Epoch 21/64\n",
            "Epoch 22/64\n",
            "Epoch 23/64\n",
            "Epoch 24/64\n",
            "Epoch 25/64\n",
            "Epoch 26/64\n",
            "Epoch 27/64\n",
            "Epoch 28/64\n",
            "Epoch 29/64\n",
            "Epoch 30/64\n",
            "Epoch 31/64\n",
            "Epoch 32/64\n",
            "Epoch 33/64\n",
            "Epoch 34/64\n",
            "Epoch 35/64\n",
            "Epoch 36/64\n",
            "Epoch 37/64\n",
            "Epoch 38/64\n",
            "Epoch 39/64\n",
            "Epoch 40/64\n",
            "Epoch 41/64\n",
            "Epoch 42/64\n",
            "Epoch 43/64\n",
            "Epoch 44/64\n",
            "Epoch 45/64\n",
            "Epoch 46/64\n",
            "Epoch 47/64\n",
            "Epoch 48/64\n",
            "Epoch 49/64\n",
            "Epoch 50/64\n",
            "Epoch 51/64\n",
            "Epoch 52/64\n",
            "Epoch 53/64\n",
            "Epoch 54/64\n",
            "Epoch 55/64\n",
            "Epoch 56/64\n",
            "Epoch 57/64\n",
            "Epoch 58/64\n",
            "Epoch 59/64\n",
            "Epoch 60/64\n",
            "Epoch 61/64\n",
            "Epoch 62/64\n",
            "Epoch 63/64\n",
            "Epoch 64/64\n",
            "Epoch 1/64\n",
            "Epoch 2/64\n",
            "Epoch 3/64\n",
            "Epoch 4/64\n",
            "Epoch 5/64\n",
            "Epoch 6/64\n",
            "Epoch 7/64\n",
            "Epoch 8/64\n",
            "Epoch 9/64\n",
            "Epoch 10/64\n",
            "Epoch 11/64\n",
            "Epoch 12/64\n",
            "Epoch 13/64\n",
            "Epoch 14/64\n",
            "Epoch 15/64\n",
            "Epoch 16/64\n",
            "Epoch 17/64\n",
            "Epoch 18/64\n",
            "Epoch 19/64\n",
            "Epoch 20/64\n",
            "Epoch 21/64\n",
            "Epoch 22/64\n",
            "Epoch 23/64\n",
            "Epoch 24/64\n",
            "Epoch 25/64\n",
            "Epoch 26/64\n",
            "Epoch 27/64\n",
            "Epoch 28/64\n",
            "Epoch 29/64\n",
            "Epoch 30/64\n",
            "Epoch 31/64\n",
            "Epoch 32/64\n",
            "Epoch 33/64\n",
            "Epoch 34/64\n",
            "Epoch 35/64\n",
            "Epoch 36/64\n",
            "Epoch 37/64\n",
            "Epoch 38/64\n",
            "Epoch 39/64\n",
            "Epoch 40/64\n",
            "Epoch 41/64\n",
            "Epoch 42/64\n",
            "Epoch 43/64\n",
            "Epoch 44/64\n",
            "Epoch 45/64\n",
            "Epoch 46/64\n",
            "Epoch 47/64\n",
            "Epoch 48/64\n",
            "Epoch 49/64\n",
            "Epoch 50/64\n",
            "Epoch 51/64\n",
            "Epoch 52/64\n",
            "Epoch 53/64\n",
            "Epoch 54/64\n",
            "Epoch 55/64\n",
            "Epoch 56/64\n",
            "Epoch 57/64\n",
            "Epoch 58/64\n",
            "Epoch 59/64\n",
            "Epoch 60/64\n",
            "Epoch 61/64\n",
            "Epoch 62/64\n",
            "Epoch 63/64\n",
            "Epoch 64/64\n"
          ]
        }
      ]
    },
    {
      "cell_type": "code",
      "source": [
        "# Save models\n",
        "for index, model in enumerate(models):\n",
        "  model.save(MODELS_DIR + f'model-{index + 1}')"
      ],
      "metadata": {
        "id": "T-TDawtbVMMW"
      },
      "execution_count": 29,
      "outputs": []
    },
    {
      "cell_type": "markdown",
      "source": [
        "## METRIC ANALYSIS"
      ],
      "metadata": {
        "id": "JEZaEquUNAa5"
      }
    },
    {
      "cell_type": "markdown",
      "source": [
        "## LITE MODEL QUANTIZATION"
      ],
      "metadata": {
        "id": "Qb8X2csgNM7i"
      }
    },
    {
      "cell_type": "code",
      "source": [
        "# Convert each model to the TensorFlow Lite format with quantization\n",
        "def representative_dataset():\n",
        "    for i in range(500):\n",
        "        yield([x_train[i].reshape(1, 1)])\n",
        "\n",
        "for index, model in enumerate(models):\n",
        "    converter = tf.lite.TFLiteConverter.from_keras_model(model)\n",
        "    # Set the optimization flag\n",
        "    converter.optimizations = [tf.lite.Optimize.DEFAULT]\n",
        "    # Enforce integer only quantization\n",
        "    converter.target_spec.supported_ops = [tf.lite.OpsSet.TFLITE_BUILTINS_INT8]\n",
        "    # Provide a representative dataset to ensure we quantize correctly\n",
        "    converter.representative_dataset = representative_dataset\n",
        "    model_tflite = converter.convert()\n",
        "\n",
        "    dir_path = f'models/model-{index + 1}'\n",
        "\n",
        "    # Save the model to disk\n",
        "    with open(os.path.join(dir_path, f'model-{index + 1}.tflite'), \"wb\") as f:\n",
        "        f.write(model_tflite)"
      ],
      "metadata": {
        "colab": {
          "base_uri": "https://localhost:8080/"
        },
        "id": "LaAROQV6bTc8",
        "outputId": "aa1c5559-011b-4e3e-8fd9-56bc80b10762"
      },
      "execution_count": 32,
      "outputs": [
        {
          "output_type": "stream",
          "name": "stderr",
          "text": [
            "/usr/local/lib/python3.10/dist-packages/tensorflow/lite/python/convert.py:953: UserWarning: Statistics for quantized inputs were expected, but not specified; continuing anyway.\n",
            "  warnings.warn(\n",
            "/usr/local/lib/python3.10/dist-packages/tensorflow/lite/python/convert.py:953: UserWarning: Statistics for quantized inputs were expected, but not specified; continuing anyway.\n",
            "  warnings.warn(\n",
            "/usr/local/lib/python3.10/dist-packages/tensorflow/lite/python/convert.py:953: UserWarning: Statistics for quantized inputs were expected, but not specified; continuing anyway.\n",
            "  warnings.warn(\n",
            "/usr/local/lib/python3.10/dist-packages/tensorflow/lite/python/convert.py:953: UserWarning: Statistics for quantized inputs were expected, but not specified; continuing anyway.\n",
            "  warnings.warn(\n",
            "/usr/local/lib/python3.10/dist-packages/tensorflow/lite/python/convert.py:953: UserWarning: Statistics for quantized inputs were expected, but not specified; continuing anyway.\n",
            "  warnings.warn(\n",
            "/usr/local/lib/python3.10/dist-packages/tensorflow/lite/python/convert.py:953: UserWarning: Statistics for quantized inputs were expected, but not specified; continuing anyway.\n",
            "  warnings.warn(\n"
          ]
        }
      ]
    },
    {
      "cell_type": "markdown",
      "source": [],
      "metadata": {
        "id": "gC_iMLy0NZ-v"
      }
    }
  ]
}